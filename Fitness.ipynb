{
 "cells": [
  {
   "cell_type": "code",
   "execution_count": 25,
   "metadata": {},
   "outputs": [],
   "source": [
    "import pandas as pd\n",
    "import matplotlib.pyplot as plt\n",
    "import seaborn as sns"
   ]
  },
  {
   "cell_type": "code",
   "execution_count": 2,
   "metadata": {},
   "outputs": [],
   "source": [
    "df_fitness=pd.read_csv(\"fitness_class_2212.csv\")"
   ]
  },
  {
   "cell_type": "code",
   "execution_count": 3,
   "metadata": {},
   "outputs": [
    {
     "data": {
      "text/html": [
       "<div>\n",
       "<style scoped>\n",
       "    .dataframe tbody tr th:only-of-type {\n",
       "        vertical-align: middle;\n",
       "    }\n",
       "\n",
       "    .dataframe tbody tr th {\n",
       "        vertical-align: top;\n",
       "    }\n",
       "\n",
       "    .dataframe thead th {\n",
       "        text-align: right;\n",
       "    }\n",
       "</style>\n",
       "<table border=\"1\" class=\"dataframe\">\n",
       "  <thead>\n",
       "    <tr style=\"text-align: right;\">\n",
       "      <th></th>\n",
       "      <th>booking_id</th>\n",
       "      <th>months_as_member</th>\n",
       "      <th>weight</th>\n",
       "      <th>days_before</th>\n",
       "      <th>day_of_week</th>\n",
       "      <th>time</th>\n",
       "      <th>category</th>\n",
       "      <th>attended</th>\n",
       "    </tr>\n",
       "  </thead>\n",
       "  <tbody>\n",
       "    <tr>\n",
       "      <th>0</th>\n",
       "      <td>1</td>\n",
       "      <td>17</td>\n",
       "      <td>79.56</td>\n",
       "      <td>8</td>\n",
       "      <td>Wed</td>\n",
       "      <td>PM</td>\n",
       "      <td>Strength</td>\n",
       "      <td>0</td>\n",
       "    </tr>\n",
       "    <tr>\n",
       "      <th>1</th>\n",
       "      <td>2</td>\n",
       "      <td>10</td>\n",
       "      <td>79.01</td>\n",
       "      <td>2</td>\n",
       "      <td>Mon</td>\n",
       "      <td>AM</td>\n",
       "      <td>HIIT</td>\n",
       "      <td>0</td>\n",
       "    </tr>\n",
       "    <tr>\n",
       "      <th>2</th>\n",
       "      <td>3</td>\n",
       "      <td>16</td>\n",
       "      <td>74.53</td>\n",
       "      <td>14</td>\n",
       "      <td>Sun</td>\n",
       "      <td>AM</td>\n",
       "      <td>Strength</td>\n",
       "      <td>0</td>\n",
       "    </tr>\n",
       "    <tr>\n",
       "      <th>3</th>\n",
       "      <td>4</td>\n",
       "      <td>5</td>\n",
       "      <td>86.12</td>\n",
       "      <td>10</td>\n",
       "      <td>Fri</td>\n",
       "      <td>AM</td>\n",
       "      <td>Cycling</td>\n",
       "      <td>0</td>\n",
       "    </tr>\n",
       "    <tr>\n",
       "      <th>4</th>\n",
       "      <td>5</td>\n",
       "      <td>15</td>\n",
       "      <td>69.29</td>\n",
       "      <td>8</td>\n",
       "      <td>Thu</td>\n",
       "      <td>AM</td>\n",
       "      <td>HIIT</td>\n",
       "      <td>0</td>\n",
       "    </tr>\n",
       "  </tbody>\n",
       "</table>\n",
       "</div>"
      ],
      "text/plain": [
       "   booking_id  months_as_member  weight days_before day_of_week time  \\\n",
       "0           1                17   79.56           8         Wed   PM   \n",
       "1           2                10   79.01           2         Mon   AM   \n",
       "2           3                16   74.53          14         Sun   AM   \n",
       "3           4                 5   86.12          10         Fri   AM   \n",
       "4           5                15   69.29           8         Thu   AM   \n",
       "\n",
       "   category  attended  \n",
       "0  Strength         0  \n",
       "1      HIIT         0  \n",
       "2  Strength         0  \n",
       "3   Cycling         0  \n",
       "4      HIIT         0  "
      ]
     },
     "execution_count": 3,
     "metadata": {},
     "output_type": "execute_result"
    }
   ],
   "source": [
    "df_fitness.head()"
   ]
  },
  {
   "cell_type": "code",
   "execution_count": 4,
   "metadata": {},
   "outputs": [
    {
     "data": {
      "text/html": [
       "<div>\n",
       "<style scoped>\n",
       "    .dataframe tbody tr th:only-of-type {\n",
       "        vertical-align: middle;\n",
       "    }\n",
       "\n",
       "    .dataframe tbody tr th {\n",
       "        vertical-align: top;\n",
       "    }\n",
       "\n",
       "    .dataframe thead th {\n",
       "        text-align: right;\n",
       "    }\n",
       "</style>\n",
       "<table border=\"1\" class=\"dataframe\">\n",
       "  <thead>\n",
       "    <tr style=\"text-align: right;\">\n",
       "      <th></th>\n",
       "      <th>booking_id</th>\n",
       "      <th>months_as_member</th>\n",
       "      <th>weight</th>\n",
       "      <th>days_before</th>\n",
       "      <th>day_of_week</th>\n",
       "      <th>time</th>\n",
       "      <th>category</th>\n",
       "      <th>attended</th>\n",
       "    </tr>\n",
       "  </thead>\n",
       "  <tbody>\n",
       "    <tr>\n",
       "      <th>1495</th>\n",
       "      <td>1496</td>\n",
       "      <td>21</td>\n",
       "      <td>79.51</td>\n",
       "      <td>10</td>\n",
       "      <td>Fri</td>\n",
       "      <td>AM</td>\n",
       "      <td>HIIT</td>\n",
       "      <td>0</td>\n",
       "    </tr>\n",
       "    <tr>\n",
       "      <th>1496</th>\n",
       "      <td>1497</td>\n",
       "      <td>29</td>\n",
       "      <td>89.55</td>\n",
       "      <td>2</td>\n",
       "      <td>Mon</td>\n",
       "      <td>AM</td>\n",
       "      <td>Strength</td>\n",
       "      <td>0</td>\n",
       "    </tr>\n",
       "    <tr>\n",
       "      <th>1497</th>\n",
       "      <td>1498</td>\n",
       "      <td>9</td>\n",
       "      <td>87.38</td>\n",
       "      <td>4</td>\n",
       "      <td>Tue</td>\n",
       "      <td>AM</td>\n",
       "      <td>HIIT</td>\n",
       "      <td>0</td>\n",
       "    </tr>\n",
       "    <tr>\n",
       "      <th>1498</th>\n",
       "      <td>1499</td>\n",
       "      <td>34</td>\n",
       "      <td>68.64</td>\n",
       "      <td>14</td>\n",
       "      <td>Sun</td>\n",
       "      <td>AM</td>\n",
       "      <td>Aqua</td>\n",
       "      <td>0</td>\n",
       "    </tr>\n",
       "    <tr>\n",
       "      <th>1499</th>\n",
       "      <td>1500</td>\n",
       "      <td>20</td>\n",
       "      <td>94.39</td>\n",
       "      <td>8</td>\n",
       "      <td>Thu</td>\n",
       "      <td>AM</td>\n",
       "      <td>Cycling</td>\n",
       "      <td>1</td>\n",
       "    </tr>\n",
       "  </tbody>\n",
       "</table>\n",
       "</div>"
      ],
      "text/plain": [
       "      booking_id  months_as_member  weight days_before day_of_week time  \\\n",
       "1495        1496                21   79.51          10         Fri   AM   \n",
       "1496        1497                29   89.55           2         Mon   AM   \n",
       "1497        1498                 9   87.38           4         Tue   AM   \n",
       "1498        1499                34   68.64          14         Sun   AM   \n",
       "1499        1500                20   94.39           8         Thu   AM   \n",
       "\n",
       "      category  attended  \n",
       "1495      HIIT         0  \n",
       "1496  Strength         0  \n",
       "1497      HIIT         0  \n",
       "1498      Aqua         0  \n",
       "1499   Cycling         1  "
      ]
     },
     "execution_count": 4,
     "metadata": {},
     "output_type": "execute_result"
    }
   ],
   "source": [
    "df_fitness.tail()"
   ]
  },
  {
   "cell_type": "markdown",
   "metadata": {},
   "source": [
    "# EDA"
   ]
  },
  {
   "cell_type": "markdown",
   "metadata": {},
   "source": [
    "## Check nan\n"
   ]
  },
  {
   "cell_type": "code",
   "execution_count": 5,
   "metadata": {},
   "outputs": [
    {
     "data": {
      "text/plain": [
       "booking_id           0\n",
       "months_as_member     0\n",
       "weight              20\n",
       "days_before          0\n",
       "day_of_week          0\n",
       "time                 0\n",
       "category             0\n",
       "attended             0\n",
       "dtype: int64"
      ]
     },
     "execution_count": 5,
     "metadata": {},
     "output_type": "execute_result"
    }
   ],
   "source": [
    "df_fitness.isna().sum()"
   ]
  },
  {
   "cell_type": "markdown",
   "metadata": {},
   "source": [
    "Nan is `weight` type data numerical value "
   ]
  },
  {
   "cell_type": "markdown",
   "metadata": {},
   "source": [
    "So we can handling\n",
    "Technic Handling use `Arbitary` <br>\n",
    "find mean weight"
   ]
  },
  {
   "cell_type": "code",
   "execution_count": 7,
   "metadata": {},
   "outputs": [],
   "source": [
    "filna_mean_weight=df_fitness[\"weight\"].mean()\n",
    "df_fitness[\"weight\"]=df_fitness[\"weight\"].fillna(filna_mean_weight)"
   ]
  },
  {
   "cell_type": "code",
   "execution_count": 8,
   "metadata": {},
   "outputs": [
    {
     "data": {
      "text/plain": [
       "booking_id          0\n",
       "months_as_member    0\n",
       "weight              0\n",
       "days_before         0\n",
       "day_of_week         0\n",
       "time                0\n",
       "category            0\n",
       "attended            0\n",
       "dtype: int64"
      ]
     },
     "execution_count": 8,
     "metadata": {},
     "output_type": "execute_result"
    }
   ],
   "source": [
    "df_fitness.isna().sum()"
   ]
  },
  {
   "cell_type": "code",
   "execution_count": 32,
   "metadata": {},
   "outputs": [
    {
     "data": {
      "text/html": [
       "<div>\n",
       "<style scoped>\n",
       "    .dataframe tbody tr th:only-of-type {\n",
       "        vertical-align: middle;\n",
       "    }\n",
       "\n",
       "    .dataframe tbody tr th {\n",
       "        vertical-align: top;\n",
       "    }\n",
       "\n",
       "    .dataframe thead th {\n",
       "        text-align: right;\n",
       "    }\n",
       "</style>\n",
       "<table border=\"1\" class=\"dataframe\">\n",
       "  <thead>\n",
       "    <tr style=\"text-align: right;\">\n",
       "      <th></th>\n",
       "      <th>days_before</th>\n",
       "      <th>day_of_week</th>\n",
       "      <th>time</th>\n",
       "      <th>category</th>\n",
       "    </tr>\n",
       "  </thead>\n",
       "  <tbody>\n",
       "    <tr>\n",
       "      <th>count</th>\n",
       "      <td>1500</td>\n",
       "      <td>1500</td>\n",
       "      <td>1500</td>\n",
       "      <td>1500</td>\n",
       "    </tr>\n",
       "    <tr>\n",
       "      <th>unique</th>\n",
       "      <td>31</td>\n",
       "      <td>10</td>\n",
       "      <td>2</td>\n",
       "      <td>6</td>\n",
       "    </tr>\n",
       "    <tr>\n",
       "      <th>top</th>\n",
       "      <td>10</td>\n",
       "      <td>Fri</td>\n",
       "      <td>AM</td>\n",
       "      <td>HIIT</td>\n",
       "    </tr>\n",
       "    <tr>\n",
       "      <th>freq</th>\n",
       "      <td>293</td>\n",
       "      <td>279</td>\n",
       "      <td>1141</td>\n",
       "      <td>667</td>\n",
       "    </tr>\n",
       "  </tbody>\n",
       "</table>\n",
       "</div>"
      ],
      "text/plain": [
       "       days_before day_of_week  time category\n",
       "count         1500        1500  1500     1500\n",
       "unique          31          10     2        6\n",
       "top             10         Fri    AM     HIIT\n",
       "freq           293         279  1141      667"
      ]
     },
     "execution_count": 32,
     "metadata": {},
     "output_type": "execute_result"
    }
   ],
   "source": [
    "df_fitness.describe(include=['O'])"
   ]
  },
  {
   "cell_type": "code",
   "execution_count": 30,
   "metadata": {},
   "outputs": [
    {
     "data": {
      "text/html": [
       "<div>\n",
       "<style scoped>\n",
       "    .dataframe tbody tr th:only-of-type {\n",
       "        vertical-align: middle;\n",
       "    }\n",
       "\n",
       "    .dataframe tbody tr th {\n",
       "        vertical-align: top;\n",
       "    }\n",
       "\n",
       "    .dataframe thead th {\n",
       "        text-align: right;\n",
       "    }\n",
       "</style>\n",
       "<table border=\"1\" class=\"dataframe\">\n",
       "  <thead>\n",
       "    <tr style=\"text-align: right;\">\n",
       "      <th></th>\n",
       "      <th>booking_id</th>\n",
       "      <th>months_as_member</th>\n",
       "      <th>weight</th>\n",
       "      <th>attended</th>\n",
       "    </tr>\n",
       "  </thead>\n",
       "  <tbody>\n",
       "    <tr>\n",
       "      <th>count</th>\n",
       "      <td>1500.000000</td>\n",
       "      <td>1500.000000</td>\n",
       "      <td>1500.000000</td>\n",
       "      <td>1500.000000</td>\n",
       "    </tr>\n",
       "    <tr>\n",
       "      <th>mean</th>\n",
       "      <td>750.500000</td>\n",
       "      <td>15.628667</td>\n",
       "      <td>82.610378</td>\n",
       "      <td>0.302667</td>\n",
       "    </tr>\n",
       "    <tr>\n",
       "      <th>std</th>\n",
       "      <td>433.157015</td>\n",
       "      <td>12.926543</td>\n",
       "      <td>12.680411</td>\n",
       "      <td>0.459565</td>\n",
       "    </tr>\n",
       "    <tr>\n",
       "      <th>min</th>\n",
       "      <td>1.000000</td>\n",
       "      <td>1.000000</td>\n",
       "      <td>55.410000</td>\n",
       "      <td>0.000000</td>\n",
       "    </tr>\n",
       "    <tr>\n",
       "      <th>25%</th>\n",
       "      <td>375.750000</td>\n",
       "      <td>8.000000</td>\n",
       "      <td>73.562500</td>\n",
       "      <td>0.000000</td>\n",
       "    </tr>\n",
       "    <tr>\n",
       "      <th>50%</th>\n",
       "      <td>750.500000</td>\n",
       "      <td>12.000000</td>\n",
       "      <td>81.035000</td>\n",
       "      <td>0.000000</td>\n",
       "    </tr>\n",
       "    <tr>\n",
       "      <th>75%</th>\n",
       "      <td>1125.250000</td>\n",
       "      <td>19.000000</td>\n",
       "      <td>89.382500</td>\n",
       "      <td>1.000000</td>\n",
       "    </tr>\n",
       "    <tr>\n",
       "      <th>max</th>\n",
       "      <td>1500.000000</td>\n",
       "      <td>148.000000</td>\n",
       "      <td>170.520000</td>\n",
       "      <td>1.000000</td>\n",
       "    </tr>\n",
       "  </tbody>\n",
       "</table>\n",
       "</div>"
      ],
      "text/plain": [
       "        booking_id  months_as_member       weight     attended\n",
       "count  1500.000000       1500.000000  1500.000000  1500.000000\n",
       "mean    750.500000         15.628667    82.610378     0.302667\n",
       "std     433.157015         12.926543    12.680411     0.459565\n",
       "min       1.000000          1.000000    55.410000     0.000000\n",
       "25%     375.750000          8.000000    73.562500     0.000000\n",
       "50%     750.500000         12.000000    81.035000     0.000000\n",
       "75%    1125.250000         19.000000    89.382500     1.000000\n",
       "max    1500.000000        148.000000   170.520000     1.000000"
      ]
     },
     "execution_count": 30,
     "metadata": {},
     "output_type": "execute_result"
    }
   ],
   "source": [
    "df_fitness.describe()"
   ]
  },
  {
   "cell_type": "code",
   "execution_count": 13,
   "metadata": {},
   "outputs": [
    {
     "name": "stdout",
     "output_type": "stream",
     "text": [
      "fitness day ['Wed' 'Mon' 'Sun' 'Fri' 'Thu' 'Wednesday' 'Fri.' 'Tue' 'Sat' 'Monday']\n"
     ]
    }
   ],
   "source": [
    "print(\"fitness day\",df_fitness.day_of_week.unique())"
   ]
  },
  {
   "cell_type": "code",
   "execution_count": 37,
   "metadata": {},
   "outputs": [
    {
     "data": {
      "text/html": [
       "<div>\n",
       "<style scoped>\n",
       "    .dataframe tbody tr th:only-of-type {\n",
       "        vertical-align: middle;\n",
       "    }\n",
       "\n",
       "    .dataframe tbody tr th {\n",
       "        vertical-align: top;\n",
       "    }\n",
       "\n",
       "    .dataframe thead th {\n",
       "        text-align: right;\n",
       "    }\n",
       "</style>\n",
       "<table border=\"1\" class=\"dataframe\">\n",
       "  <thead>\n",
       "    <tr style=\"text-align: right;\">\n",
       "      <th></th>\n",
       "      <th>booking_id</th>\n",
       "      <th>months_as_member</th>\n",
       "      <th>weight</th>\n",
       "      <th>days_before</th>\n",
       "      <th>day_of_week</th>\n",
       "      <th>time</th>\n",
       "      <th>category</th>\n",
       "      <th>attended</th>\n",
       "    </tr>\n",
       "  </thead>\n",
       "  <tbody>\n",
       "    <tr>\n",
       "      <th>0</th>\n",
       "      <td>1</td>\n",
       "      <td>17</td>\n",
       "      <td>79.56</td>\n",
       "      <td>8</td>\n",
       "      <td>Wed</td>\n",
       "      <td>PM</td>\n",
       "      <td>Strength</td>\n",
       "      <td>0</td>\n",
       "    </tr>\n",
       "    <tr>\n",
       "      <th>1</th>\n",
       "      <td>2</td>\n",
       "      <td>10</td>\n",
       "      <td>79.01</td>\n",
       "      <td>2</td>\n",
       "      <td>Mon</td>\n",
       "      <td>AM</td>\n",
       "      <td>HIIT</td>\n",
       "      <td>0</td>\n",
       "    </tr>\n",
       "    <tr>\n",
       "      <th>2</th>\n",
       "      <td>3</td>\n",
       "      <td>16</td>\n",
       "      <td>74.53</td>\n",
       "      <td>14</td>\n",
       "      <td>Sun</td>\n",
       "      <td>AM</td>\n",
       "      <td>Strength</td>\n",
       "      <td>0</td>\n",
       "    </tr>\n",
       "    <tr>\n",
       "      <th>3</th>\n",
       "      <td>4</td>\n",
       "      <td>5</td>\n",
       "      <td>86.12</td>\n",
       "      <td>10</td>\n",
       "      <td>Fri</td>\n",
       "      <td>AM</td>\n",
       "      <td>Cycling</td>\n",
       "      <td>0</td>\n",
       "    </tr>\n",
       "    <tr>\n",
       "      <th>4</th>\n",
       "      <td>5</td>\n",
       "      <td>15</td>\n",
       "      <td>69.29</td>\n",
       "      <td>8</td>\n",
       "      <td>Thu</td>\n",
       "      <td>AM</td>\n",
       "      <td>HIIT</td>\n",
       "      <td>0</td>\n",
       "    </tr>\n",
       "    <tr>\n",
       "      <th>...</th>\n",
       "      <td>...</td>\n",
       "      <td>...</td>\n",
       "      <td>...</td>\n",
       "      <td>...</td>\n",
       "      <td>...</td>\n",
       "      <td>...</td>\n",
       "      <td>...</td>\n",
       "      <td>...</td>\n",
       "    </tr>\n",
       "    <tr>\n",
       "      <th>1495</th>\n",
       "      <td>1496</td>\n",
       "      <td>21</td>\n",
       "      <td>79.51</td>\n",
       "      <td>10</td>\n",
       "      <td>Fri</td>\n",
       "      <td>AM</td>\n",
       "      <td>HIIT</td>\n",
       "      <td>0</td>\n",
       "    </tr>\n",
       "    <tr>\n",
       "      <th>1496</th>\n",
       "      <td>1497</td>\n",
       "      <td>29</td>\n",
       "      <td>89.55</td>\n",
       "      <td>2</td>\n",
       "      <td>Mon</td>\n",
       "      <td>AM</td>\n",
       "      <td>Strength</td>\n",
       "      <td>0</td>\n",
       "    </tr>\n",
       "    <tr>\n",
       "      <th>1497</th>\n",
       "      <td>1498</td>\n",
       "      <td>9</td>\n",
       "      <td>87.38</td>\n",
       "      <td>4</td>\n",
       "      <td>Tue</td>\n",
       "      <td>AM</td>\n",
       "      <td>HIIT</td>\n",
       "      <td>0</td>\n",
       "    </tr>\n",
       "    <tr>\n",
       "      <th>1498</th>\n",
       "      <td>1499</td>\n",
       "      <td>34</td>\n",
       "      <td>68.64</td>\n",
       "      <td>14</td>\n",
       "      <td>Sun</td>\n",
       "      <td>AM</td>\n",
       "      <td>Aqua</td>\n",
       "      <td>0</td>\n",
       "    </tr>\n",
       "    <tr>\n",
       "      <th>1499</th>\n",
       "      <td>1500</td>\n",
       "      <td>20</td>\n",
       "      <td>94.39</td>\n",
       "      <td>8</td>\n",
       "      <td>Thu</td>\n",
       "      <td>AM</td>\n",
       "      <td>Cycling</td>\n",
       "      <td>1</td>\n",
       "    </tr>\n",
       "  </tbody>\n",
       "</table>\n",
       "<p>1500 rows × 8 columns</p>\n",
       "</div>"
      ],
      "text/plain": [
       "      booking_id  months_as_member  weight days_before day_of_week time  \\\n",
       "0              1                17   79.56           8         Wed   PM   \n",
       "1              2                10   79.01           2         Mon   AM   \n",
       "2              3                16   74.53          14         Sun   AM   \n",
       "3              4                 5   86.12          10         Fri   AM   \n",
       "4              5                15   69.29           8         Thu   AM   \n",
       "...          ...               ...     ...         ...         ...  ...   \n",
       "1495        1496                21   79.51          10         Fri   AM   \n",
       "1496        1497                29   89.55           2         Mon   AM   \n",
       "1497        1498                 9   87.38           4         Tue   AM   \n",
       "1498        1499                34   68.64          14         Sun   AM   \n",
       "1499        1500                20   94.39           8         Thu   AM   \n",
       "\n",
       "      category  attended  \n",
       "0     Strength         0  \n",
       "1         HIIT         0  \n",
       "2     Strength         0  \n",
       "3      Cycling         0  \n",
       "4         HIIT         0  \n",
       "...        ...       ...  \n",
       "1495      HIIT         0  \n",
       "1496  Strength         0  \n",
       "1497      HIIT         0  \n",
       "1498      Aqua         0  \n",
       "1499   Cycling         1  \n",
       "\n",
       "[1500 rows x 8 columns]"
      ]
     },
     "execution_count": 37,
     "metadata": {},
     "output_type": "execute_result"
    }
   ],
   "source": [
    "df_fitness"
   ]
  },
  {
   "cell_type": "code",
   "execution_count": 70,
   "metadata": {},
   "outputs": [],
   "source": [
    "fitness_member=df_fitness[df_fitness[\"months_as_member\"]>11]\n",
    "data_fitness_member=pd.DataFrame(fitness_member[[\"day_of_week\",\"time\",\"attended\",\"category\"]].value_counts()).reset_index().rename(columns={0:\"total Category\"})\n",
    "data_fitness_member_attended_atleast_one=data_fitness_member[data_fitness_member[\"attended\"]>0]"
   ]
  },
  {
   "cell_type": "code",
   "execution_count": 71,
   "metadata": {},
   "outputs": [
    {
     "data": {
      "image/png": "[encoded data removed]",
      "text/plain": [
       "<Figure size 1000x500 with 1 Axes>"
      ]
     },
     "metadata": {},
     "output_type": "display_data"
    }
   ],
   "source": [
    "plt.figure(figsize=(10,5))\n",
    "sns.barplot(data=data_fitness_member_attended_atleast_one,x=\"day_of_week\",y='total Category',hue='category')\n",
    "plt.title(\"Day train membership >11 month\")\n",
    "plt.show()"
   ]
  },
  {
   "cell_type": "code",
   "execution_count": 73,
   "metadata": {},
   "outputs": [
    {
     "data": {
      "image/png": "[encoded data removed]",
      "text/plain": [
       "<Figure size 500x500 with 1 Axes>"
      ]
     },
     "metadata": {},
     "output_type": "display_data"
    }
   ],
   "source": [
    "plt.figure(figsize=(5,5))\n",
    "sns.barplot(data=data_fitness_member_attended_atleast_one,x=\"time\",y='total Category',hue='category')\n",
    "plt.title(\"Time train membership >11 month\")\n",
    "plt.show()"
   ]
  }
 ],
 "metadata": {
  "kernelspec": {
   "display_name": "base",
   "language": "python",
   "name": "python3"
  },
  "language_info": {
   "codemirror_mode": {
    "name": "ipython",
    "version": 3
   },
   "file_extension": ".py",
   "mimetype": "text/x-python",
   "name": "python",
   "nbconvert_exporter": "python",
   "pygments_lexer": "ipython3",
   "version": "3.11.4"
  },
  "orig_nbformat": 4
 },
 "nbformat": 4,
 "nbformat_minor": 2
}
